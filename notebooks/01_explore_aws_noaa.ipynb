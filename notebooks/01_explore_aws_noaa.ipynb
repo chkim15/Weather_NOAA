{
 "cells": [
  {
   "cell_type": "code",
   "execution_count": 2,
   "metadata": {},
   "outputs": [],
   "source": [
    "import boto3\n",
    "import pandas as pd\n",
    "import matplotlib.pyplot as plt\n",
    "import os\n",
    "from io import StringIO, BytesIO\n",
    "%matplotlib inline\n",
    "\n",
    "import warnings\n",
    "warnings.filterwarnings('ignore')"
   ]
  },
  {
   "cell_type": "code",
   "execution_count": null,
   "metadata": {},
   "outputs": [],
   "source": [
    "import botocore\n",
    "\n",
    "# Set up the S3 client without credentials (for public datasets)\n",
    "s3 = boto3.client('s3', region_name='us-east-1',\n",
    "                 config=boto3.session.Config(signature_version=botocore.UNSIGNED))"
   ]
  },
  {
   "cell_type": "code",
   "execution_count": 5,
   "metadata": {},
   "outputs": [
    {
     "name": "stdout",
     "output_type": "stream",
     "text": [
      "Top-level directories and files:\n",
      "/data/2022/010060-99999-2022.gz\n",
      "/data/2022/010150-99999-2022.gz\n",
      "/data/2022/010160-99999-2022.gz\n",
      "/data/2022/010170-99999-2022.gz\n",
      "/data/2022/010231-99999-2022.gz\n",
      "/data/2022/010240-99999-2022.gz\n",
      "/data/2022/010250-99999-2022.gz\n",
      "/data/2022/010280-99999-2022.gz\n",
      "/data/2022/010440-99999-2022.gz\n",
      "/data/2022/010470-99999-2022.gz\n",
      "/data/2022/010490-99999-2022.gz\n",
      "/data/2022/010620-99999-2022.gz\n",
      "/data/2022/010740-99999-2022.gz\n",
      "/data/2022/010860-99999-2022.gz\n",
      "/data/2022/010877-99999-2022.gz\n",
      "/data/2022/010882-99999-2022.gz\n",
      "/data/2022/010886-99999-2022.gz\n",
      "/data/2022/010890-99999-2022.gz\n",
      "/data/2022/010980-99999-2022.gz\n",
      "/data/2022/010990-99999-2022.gz\n"
     ]
    }
   ],
   "source": [
    "# Define the bucket name\n",
    "bucket_name = 'noaa-isd-pds'\n",
    "\n",
    "# Function to    list files in a directory\n",
    "def list_s3_files(prefix=''):\n",
    "    paginator = s3.get_paginator('list_objects_v2')\n",
    "    pages = paginator.paginate(Bucket=bucket_name, Prefix=prefix)\n",
    "    \n",
    "    files = []\n",
    "    for page in pages:\n",
    "        if 'Contents' in page:\n",
    "            for obj in page['Contents']:\n",
    "                files.append(obj['Key'])\n",
    "    \n",
    "    return files\n",
    "\n",
    "# List top-level directories/files\n",
    "top_level = list_s3_files()\n",
    "print(\"Top-level directories and files:\")\n",
    "for item in top_level[:20]:  # Show just the first 20 items\n",
    "    print(item)"
   ]
  },
  {
   "cell_type": "code",
   "execution_count": 6,
   "metadata": {},
   "outputs": [
    {
     "name": "stdout",
     "output_type": "stream",
     "text": [
      "\n",
      "Downloading station history file...\n"
     ]
    }
   ],
   "source": [
    "# Download the station history file (contains information about all weather stations)\n",
    "print(\"\\nDownloading station history file...\")\n",
    "response = s3.get_object(Bucket=bucket_name, Key='isd-history.csv')\n",
    "stations_df = pd.read_csv(BytesIO(response['Body'].read()))"
   ]
  },
  {
   "cell_type": "code",
   "execution_count": 7,
   "metadata": {},
   "outputs": [
    {
     "name": "stdout",
     "output_type": "stream",
     "text": [
      "\n",
      "Station history file has 29659 stations and 11 columns\n",
      "\n",
      "Column names:\n",
      "['USAF', 'WBAN', 'STATION NAME', 'CTRY', 'STATE', 'ICAO', 'LAT', 'LON', 'ELEV(M)', 'BEGIN', 'END']\n"
     ]
    }
   ],
   "source": [
    "# Display basic info about the stations dataset\n",
    "print(f\"\\nStation history file has {stations_df.shape[0]} stations and {stations_df.shape[1]} columns\")\n",
    "print(\"\\nColumn names:\")\n",
    "print(stations_df.columns.tolist())"
   ]
  },
  {
   "cell_type": "code",
   "execution_count": 8,
   "metadata": {},
   "outputs": [
    {
     "name": "stdout",
     "output_type": "stream",
     "text": [
      "\n",
      "Sample data:\n"
     ]
    },
    {
     "data": {
      "text/html": [
       "<div>\n",
       "<style scoped>\n",
       "    .dataframe tbody tr th:only-of-type {\n",
       "        vertical-align: middle;\n",
       "    }\n",
       "\n",
       "    .dataframe tbody tr th {\n",
       "        vertical-align: top;\n",
       "    }\n",
       "\n",
       "    .dataframe thead th {\n",
       "        text-align: right;\n",
       "    }\n",
       "</style>\n",
       "<table border=\"1\" class=\"dataframe\">\n",
       "  <thead>\n",
       "    <tr style=\"text-align: right;\">\n",
       "      <th></th>\n",
       "      <th>USAF</th>\n",
       "      <th>WBAN</th>\n",
       "      <th>STATION NAME</th>\n",
       "      <th>CTRY</th>\n",
       "      <th>STATE</th>\n",
       "      <th>ICAO</th>\n",
       "      <th>LAT</th>\n",
       "      <th>LON</th>\n",
       "      <th>ELEV(M)</th>\n",
       "      <th>BEGIN</th>\n",
       "      <th>END</th>\n",
       "    </tr>\n",
       "  </thead>\n",
       "  <tbody>\n",
       "    <tr>\n",
       "      <th>0</th>\n",
       "      <td>007018</td>\n",
       "      <td>99999</td>\n",
       "      <td>WXPOD 7018</td>\n",
       "      <td>NaN</td>\n",
       "      <td>NaN</td>\n",
       "      <td>NaN</td>\n",
       "      <td>0.00</td>\n",
       "      <td>0.000</td>\n",
       "      <td>7018.0</td>\n",
       "      <td>20110309</td>\n",
       "      <td>20130730</td>\n",
       "    </tr>\n",
       "    <tr>\n",
       "      <th>1</th>\n",
       "      <td>007026</td>\n",
       "      <td>99999</td>\n",
       "      <td>WXPOD 7026</td>\n",
       "      <td>AF</td>\n",
       "      <td>NaN</td>\n",
       "      <td>NaN</td>\n",
       "      <td>0.00</td>\n",
       "      <td>0.000</td>\n",
       "      <td>7026.0</td>\n",
       "      <td>20120713</td>\n",
       "      <td>20170822</td>\n",
       "    </tr>\n",
       "    <tr>\n",
       "      <th>2</th>\n",
       "      <td>007070</td>\n",
       "      <td>99999</td>\n",
       "      <td>WXPOD 7070</td>\n",
       "      <td>AF</td>\n",
       "      <td>NaN</td>\n",
       "      <td>NaN</td>\n",
       "      <td>0.00</td>\n",
       "      <td>0.000</td>\n",
       "      <td>7070.0</td>\n",
       "      <td>20140923</td>\n",
       "      <td>20150926</td>\n",
       "    </tr>\n",
       "    <tr>\n",
       "      <th>3</th>\n",
       "      <td>008260</td>\n",
       "      <td>99999</td>\n",
       "      <td>WXPOD8270</td>\n",
       "      <td>NaN</td>\n",
       "      <td>NaN</td>\n",
       "      <td>NaN</td>\n",
       "      <td>0.00</td>\n",
       "      <td>0.000</td>\n",
       "      <td>0.0</td>\n",
       "      <td>20050101</td>\n",
       "      <td>20120731</td>\n",
       "    </tr>\n",
       "    <tr>\n",
       "      <th>4</th>\n",
       "      <td>008268</td>\n",
       "      <td>99999</td>\n",
       "      <td>WXPOD8278</td>\n",
       "      <td>AF</td>\n",
       "      <td>NaN</td>\n",
       "      <td>NaN</td>\n",
       "      <td>32.95</td>\n",
       "      <td>65.567</td>\n",
       "      <td>1156.7</td>\n",
       "      <td>20100519</td>\n",
       "      <td>20120323</td>\n",
       "    </tr>\n",
       "  </tbody>\n",
       "</table>\n",
       "</div>"
      ],
      "text/plain": [
       "     USAF   WBAN STATION NAME CTRY STATE ICAO    LAT     LON  ELEV(M)  \\\n",
       "0  007018  99999   WXPOD 7018  NaN   NaN  NaN   0.00   0.000   7018.0   \n",
       "1  007026  99999   WXPOD 7026   AF   NaN  NaN   0.00   0.000   7026.0   \n",
       "2  007070  99999   WXPOD 7070   AF   NaN  NaN   0.00   0.000   7070.0   \n",
       "3  008260  99999    WXPOD8270  NaN   NaN  NaN   0.00   0.000      0.0   \n",
       "4  008268  99999    WXPOD8278   AF   NaN  NaN  32.95  65.567   1156.7   \n",
       "\n",
       "      BEGIN       END  \n",
       "0  20110309  20130730  \n",
       "1  20120713  20170822  \n",
       "2  20140923  20150926  \n",
       "3  20050101  20120731  \n",
       "4  20100519  20120323  "
      ]
     },
     "execution_count": 8,
     "metadata": {},
     "output_type": "execute_result"
    }
   ],
   "source": [
    "# Show a sample of the data\n",
    "print(\"\\nSample data:\")\n",
    "stations_df.head()"
   ]
  },
  {
   "cell_type": "code",
   "execution_count": 9,
   "metadata": {},
   "outputs": [
    {
     "name": "stdout",
     "output_type": "stream",
     "text": [
      "\n",
      "Exploring data structure for recent years...\n",
      "Found 13435 files for 2023\n",
      "Sample filenames:\n",
      "data/2023/010010-99999-2023.gz\n",
      "data/2023/010014-99999-2023.gz\n",
      "data/2023/010020-99999-2023.gz\n",
      "data/2023/010030-99999-2023.gz\n",
      "data/2023/010060-99999-2023.gz\n"
     ]
    }
   ],
   "source": [
    "# Explore the data structure for recent years\n",
    "print(\"\\nExploring data structure for recent years...\")\n",
    "recent_files = list_s3_files('data/2023/')\n",
    "print(f\"Found {len(recent_files)} files for 2023\")\n",
    "print(\"Sample filenames:\")\n",
    "for file in recent_files[:5]:\n",
    "    print(file)"
   ]
  },
  {
   "cell_type": "code",
   "execution_count": 11,
   "metadata": {},
   "outputs": [
    {
     "name": "stdout",
     "output_type": "stream",
     "text": [
      "\n",
      "Checking format of sample file: data/2023/010010-99999-2023.gz\n",
      "First 500 characters of the file:\n",
      "0104010010999992023010100004+70939-008669FM-12+001099999V0202671N0142199999999999999999-01001-01241097251ADDAA199999999KA1120M-00991KA2120N-01081MA1999999097131MD1310301+9999OC102641OD199902361999REMSYN004BUFR\n",
      "0093010010999992023010101004+70939-008669FM-12+001099999V0202541N0141199999999999999999-01021-01271097341ADDKA1120M-00981KA2120N-01031MA1999999097221MD1310351+9999OC102091OD199901741999REMSYN004BUFR\n",
      "0093010010999992023010102004+70939-008669FM-12+001099999V0202581N0123199999999999999999-009\n"
     ]
    }
   ],
   "source": [
    "import gzip\n",
    "import io\n",
    "\n",
    "# Get the object\n",
    "print(f\"\\nChecking format of sample file: {sample_file}\")\n",
    "response = s3.get_object(Bucket=bucket_name, Key=sample_file)\n",
    "\n",
    "# Check if content is gzipped by looking at file extension or magic bytes\n",
    "content = response['Body'].read()\n",
    "if sample_file.endswith('.gz') or (len(content) > 1 and content[0] == 0x1f and content[1] == 0x8b):\n",
    "    # It's gzipped, decompress it\n",
    "    with gzip.GzipFile(fileobj=io.BytesIO(content)) as gzipped_content:\n",
    "        sample_content = gzipped_content.read().decode('utf-8')\n",
    "else:\n",
    "    # Try different encodings or handle as binary\n",
    "    try:\n",
    "        sample_content = content.decode('utf-8')\n",
    "    except UnicodeDecodeError:\n",
    "        # If it's not UTF-8, you might want to handle it as binary or try another encoding\n",
    "        sample_content = f\"Binary content, first 100 bytes: {content[:100]}\"\n",
    "\n",
    "print(f\"First 500 characters of the file:\")\n",
    "print(sample_content[:500])"
   ]
  },
  {
   "cell_type": "code",
   "execution_count": 14,
   "metadata": {},
   "outputs": [
    {
     "name": "stdout",
     "output_type": "stream",
     "text": [
      "\n",
      "Number of files per year (2018-2024):\n",
      "2018: 14203 files\n",
      "2019: 13505 files\n",
      "2020: 13570 files\n",
      "2021: 13546 files\n",
      "2022: 13475 files\n",
      "2023: 13435 files\n",
      "2024: 13345 files\n"
     ]
    }
   ],
   "source": [
    "# Look at the data directory structure to understand how files are organized\n",
    "years = []\n",
    "for year in range(2018, 2025):\n",
    "    year_files = list_s3_files(f'data/{year}/')\n",
    "    years.append((year, len(year_files)))\n",
    "\n",
    "print(\"\\nNumber of files per year (2018-2024):\")\n",
    "for year, count in years:\n",
    "    print(f\"{year}: {count} files\")"
   ]
  }
 ],
 "metadata": {
  "kernelspec": {
   "display_name": "venv",
   "language": "python",
   "name": "python3"
  },
  "language_info": {
   "codemirror_mode": {
    "name": "ipython",
    "version": 3
   },
   "file_extension": ".py",
   "mimetype": "text/x-python",
   "name": "python",
   "nbconvert_exporter": "python",
   "pygments_lexer": "ipython3",
   "version": "3.10.16"
  }
 },
 "nbformat": 4,
 "nbformat_minor": 2
}
